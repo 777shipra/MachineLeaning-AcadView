{
 "cells": [
  {
   "cell_type": "code",
   "execution_count": 3,
   "metadata": {},
   "outputs": [],
   "source": [
    "import cv2"
   ]
  },
  {
   "cell_type": "code",
   "execution_count": 4,
   "metadata": {},
   "outputs": [],
   "source": [
    "#to read image\n",
    "#imread() which accepts the image name and loads it into a numpy array.\n",
    "#NumPy is the fundamental package for scientific computing with Python.\n",
    "\n",
    "#It helps us to define multidimensional arrays (more than 2 dimensions) which is otherwise impossible to handle.\n",
    "image = cv2.imread('image.jpg')"
   ]
  },
  {
   "cell_type": "code",
   "execution_count": 7,
   "metadata": {},
   "outputs": [
    {
     "data": {
      "text/plain": [
       "(808, 766, 3)"
      ]
     },
     "execution_count": 7,
     "metadata": {},
     "output_type": "execute_result"
    }
   ],
   "source": [
    "image.shape"
   ]
  },
  {
   "cell_type": "code",
   "execution_count": 5,
   "metadata": {},
   "outputs": [],
   "source": [
    "#But when an image is loaded into a numpy array, the order of colour inside each pixel changes to BGR due to some computation flaw\n",
    "#To fix this, cv2 provides us with another function called cvtColor which accepts the image and the order to which it has to be converted.\n",
    "image = cv2.cvtColor(image, cv2.COLOR_BGR2RGB)"
   ]
  },
  {
   "cell_type": "code",
   "execution_count": 6,
   "metadata": {},
   "outputs": [
    {
     "data": {
      "text/plain": [
       "(808, 766, 3)"
      ]
     },
     "execution_count": 6,
     "metadata": {},
     "output_type": "execute_result"
    }
   ],
   "source": [
    "#shape of numpy array\n",
    "image.shape\n",
    "#The shape of this image is (808, 766, 3) i.e. 808 pixels in length, 766 pixels in breath and 3 units for each pixel."
   ]
  },
  {
   "cell_type": "code",
   "execution_count": 8,
   "metadata": {},
   "outputs": [],
   "source": [
    "#we can reshape the multidimensional array into a 2 dimensional array where \n",
    "#Z=M*N\n",
    "#This will give us an array of Z x 3 dimension, where \n",
    "#Z is the count of the pixels, i.e. M x N.\n",
    "#3 is the R G B values of each pixel."
   ]
  },
  {
   "cell_type": "code",
   "execution_count": 9,
   "metadata": {},
   "outputs": [],
   "source": [
    "#we will use the reshape() function which accepts the new dimensions for the multidimensional array. \n",
    "image = image.reshape((image.shape[0] * image.shape[1], 3))"
   ]
  },
  {
   "cell_type": "code",
   "execution_count": 12,
   "metadata": {},
   "outputs": [
    {
     "data": {
      "text/plain": [
       "KMeans(algorithm='auto', copy_x=True, init='k-means++', max_iter=300,\n",
       "    n_clusters=3, n_init=10, n_jobs=1, precompute_distances='auto',\n",
       "    random_state=None, tol=0.0001, verbose=0)"
      ]
     },
     "execution_count": 12,
     "metadata": {},
     "output_type": "execute_result"
    }
   ],
   "source": [
    "from sklearn.cluster import KMeans\n",
    "K = 3  \n",
    "clf = KMeans(n_clusters=K)\n",
    "clf.fit(image)"
   ]
  },
  {
   "cell_type": "code",
   "execution_count": 13,
   "metadata": {},
   "outputs": [],
   "source": [
    "#The K Means instance has an attribute labels_ which returns a list of labels corresponding to each data point.\n",
    "\n",
    "#We can iterate through this and count the total number of data points belonging to each label as follows:\n",
    "#initialising the label dictionary\n",
    "label = [0, 0, 0]\n",
    "\n",
    "#finding count of data in each cluster\n",
    "for x in clf.labels_:\n",
    "    label[x] += 1"
   ]
  },
  {
   "cell_type": "code",
   "execution_count": 14,
   "metadata": {},
   "outputs": [
    {
     "name": "stdout",
     "output_type": "stream",
     "text": [
      "[0.592663443890081, 0.31337570767520617, 0.09396084843471292]\n"
     ]
    }
   ],
   "source": [
    "#The total number of data points is Z.\n",
    "\n",
    "#Therefore, we can divide the count of data point corresponding to each label by the total and obtain the percentage values for the same.\n",
    "#Total Number of data points\n",
    "label_sum = image.shape[0]\n",
    "\n",
    "#converting to percentage\n",
    "label = [float(x) / label_sum for x in label]\n",
    "print (label)"
   ]
  },
  {
   "cell_type": "code",
   "execution_count": 15,
   "metadata": {},
   "outputs": [
    {
     "name": "stdout",
     "output_type": "stream",
     "text": [
      "[[ 22.43891488  21.90808471  20.96797304]\n",
      " [254.18388612 254.18080296 254.17905   ]\n",
      " [177.66257416 155.04429542  90.56063967]]\n"
     ]
    }
   ],
   "source": [
    "#K Means algorithm has another attribute called cluster_centers_ which returns a list of the centres of each clusteR\n",
    "print (clf.cluster_centers_)"
   ]
  },
  {
   "cell_type": "code",
   "execution_count": 17,
   "metadata": {},
   "outputs": [],
   "source": [
    "#The data type of pixel values is defined by uint8\n",
    "#This defines that the valid pixel values is an integer and should fall in range [0,255].\n",
    "#Therefore we need to convert these floating point values to a valid pixel value.\n",
    "\n",
    "#That is, convert the floating point values to uint8.\n",
    "centroids = [x.astype(\"uint8\").tolist() for x in clf.cluster_centers_]"
   ]
  },
  {
   "cell_type": "code",
   "execution_count": 19,
   "metadata": {},
   "outputs": [],
   "source": [
    "#To plot the colour, we need to covert these pixel values of hex colour codes.\n",
    "\n",
    "#For the conversion to hex codes, we use another amazing python libarary called webcolors.\n",
    "#webcolors provide us a function called rgb_to_hex which accepts the rgb value of a pixel and returns the corresponding hex code\n",
    "import webcolors\n",
    "clr = [webcolors.rgb_to_hex(c) for c in centroids]"
   ]
  },
  {
   "cell_type": "code",
   "execution_count": 22,
   "metadata": {},
   "outputs": [
    {
     "data": {
      "image/png": "[encoded data removed]",
      "text/plain": [
       "<Figure size 432x288 with 1 Axes>"
      ]
     },
     "metadata": {},
     "output_type": "display_data"
    }
   ],
   "source": [
    "#To plot a pie chart, matplotlib provides a function called pie which accepts the percentage values and the colour codes and outputs a pie chart.\n",
    "import matplotlib.pyplot as plt\n",
    "%matplotlib inline\n",
    "plt.pie(label, colors=clr, shadow=True)\n",
    "plt.axis('equal')\n",
    "plt.show()"
   ]
  },
  {
   "cell_type": "code",
   "execution_count": null,
   "metadata": {},
   "outputs": [],
   "source": []
  }
 ],
 "metadata": {
  "kernelspec": {
   "display_name": "Python 3",
   "language": "python",
   "name": "python3"
  },
  "language_info": {
   "codemirror_mode": {
    "name": "ipython",
    "version": 3
   },
   "file_extension": ".py",
   "mimetype": "text/x-python",
   "name": "python",
   "nbconvert_exporter": "python",
   "pygments_lexer": "ipython3",
   "version": "3.6.5"
  }
 },
 "nbformat": 4,
 "nbformat_minor": 2
}
